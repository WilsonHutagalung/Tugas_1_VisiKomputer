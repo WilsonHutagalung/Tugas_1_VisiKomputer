{
 "cells": [
  {
   "cell_type": "markdown",
   "id": "8606115b",
   "metadata": {},
   "source": [
    "# **Nama  : Wilson Boyaron Hutagalung**\n",
    "# **NIM   : 2209106035**"
   ]
  },
  {
   "cell_type": "markdown",
   "id": "39249fe3",
   "metadata": {},
   "source": [
    "#### Link Dataset: https://www.kaggle.com/datasets/jimschacko/airlines-dataset-to-predict-a-delay"
   ]
  },
  {
   "cell_type": "markdown",
   "id": "f6f116d6",
   "metadata": {},
   "source": [
    "## Import Library\n",
    "<p>Pada bagian ini, berbagai library Python diimpor untuk keperluan analisis data, visualisasi, pemodelan machine learning, dan penanganan data imbalance. Library seperti pandas dan numpy digunakan untuk manipulasi data, sklearn untuk preprocessing dan modeling, imblearn untuk penyeimbangan data, dan matplotlib untuk visualisasi.<p>"
   ]
  },
  {
   "cell_type": "code",
   "execution_count": 1,
   "id": "5146ecae",
   "metadata": {},
   "outputs": [],
   "source": [
    "import pandas as pd\n",
    "import numpy as np\n",
    "import matplotlib.pyplot as plt\n",
    "from sklearn.model_selection import train_test_split, GridSearchCV, cross_val_score\n",
    "from sklearn.preprocessing import LabelEncoder, MinMaxScaler\n",
    "from sklearn.decomposition import PCA\n",
    "from sklearn.ensemble import RandomForestClassifier\n",
    "from sklearn.metrics import classification_report, confusion_matrix, ConfusionMatrixDisplay\n",
    "from imblearn.over_sampling import SMOTE\n",
    "from scipy import stats\n",
    "import random"
   ]
  },
  {
   "cell_type": "markdown",
   "id": "f0e10c84",
   "metadata": {},
   "source": [
    "## Load Dataset\n",
    "<p>Dataset Airlines.csv berisi data penerbangan dengan fitur seperti maskapai, bandara asal, bandara tujuan, waktu keberangkatan,\n",
    "dan durasi penerbangan, serta kolom target 'Delay' (0: No Delay, 1: Delay). Dataset ini digunakan untuk memprediksi penundaan\n",
    "penerbangan. Struktur dan isi dataset diperiksa untuk memahami jenis data, jumlah fitur, serta memeriksa nilai kosong atau duplikat.<p>"
   ]
  },
  {
   "cell_type": "code",
   "execution_count": 2,
   "id": "addad706",
   "metadata": {},
   "outputs": [
    {
     "name": "stdout",
     "output_type": "stream",
     "text": [
      "====================\n",
      "<class 'pandas.core.frame.DataFrame'>\n",
      "RangeIndex: 539383 entries, 0 to 539382\n",
      "Data columns (total 9 columns):\n",
      " #   Column       Non-Null Count   Dtype \n",
      "---  ------       --------------   ----- \n",
      " 0   id           539383 non-null  int64 \n",
      " 1   Airline      539383 non-null  object\n",
      " 2   Flight       539383 non-null  int64 \n",
      " 3   AirportFrom  539383 non-null  object\n",
      " 4   AirportTo    539383 non-null  object\n",
      " 5   DayOfWeek    539383 non-null  int64 \n",
      " 6   Time         539383 non-null  int64 \n",
      " 7   Length       539383 non-null  int64 \n",
      " 8   Delay        539383 non-null  int64 \n",
      "dtypes: int64(6), object(3)\n",
      "memory usage: 37.0+ MB\n",
      "====================\n",
      "====================\n"
     ]
    },
    {
     "data": {
      "text/html": [
       "<div>\n",
       "<style scoped>\n",
       "    .dataframe tbody tr th:only-of-type {\n",
       "        vertical-align: middle;\n",
       "    }\n",
       "\n",
       "    .dataframe tbody tr th {\n",
       "        vertical-align: top;\n",
       "    }\n",
       "\n",
       "    .dataframe thead th {\n",
       "        text-align: right;\n",
       "    }\n",
       "</style>\n",
       "<table border=\"1\" class=\"dataframe\">\n",
       "  <thead>\n",
       "    <tr style=\"text-align: right;\">\n",
       "      <th></th>\n",
       "      <th>id</th>\n",
       "      <th>Airline</th>\n",
       "      <th>Flight</th>\n",
       "      <th>AirportFrom</th>\n",
       "      <th>AirportTo</th>\n",
       "      <th>DayOfWeek</th>\n",
       "      <th>Time</th>\n",
       "      <th>Length</th>\n",
       "      <th>Delay</th>\n",
       "    </tr>\n",
       "  </thead>\n",
       "  <tbody>\n",
       "    <tr>\n",
       "      <th>0</th>\n",
       "      <td>1</td>\n",
       "      <td>CO</td>\n",
       "      <td>269</td>\n",
       "      <td>SFO</td>\n",
       "      <td>IAH</td>\n",
       "      <td>3</td>\n",
       "      <td>15</td>\n",
       "      <td>205</td>\n",
       "      <td>1</td>\n",
       "    </tr>\n",
       "    <tr>\n",
       "      <th>1</th>\n",
       "      <td>2</td>\n",
       "      <td>US</td>\n",
       "      <td>1558</td>\n",
       "      <td>PHX</td>\n",
       "      <td>CLT</td>\n",
       "      <td>3</td>\n",
       "      <td>15</td>\n",
       "      <td>222</td>\n",
       "      <td>1</td>\n",
       "    </tr>\n",
       "    <tr>\n",
       "      <th>2</th>\n",
       "      <td>3</td>\n",
       "      <td>AA</td>\n",
       "      <td>2400</td>\n",
       "      <td>LAX</td>\n",
       "      <td>DFW</td>\n",
       "      <td>3</td>\n",
       "      <td>20</td>\n",
       "      <td>165</td>\n",
       "      <td>1</td>\n",
       "    </tr>\n",
       "    <tr>\n",
       "      <th>3</th>\n",
       "      <td>4</td>\n",
       "      <td>AA</td>\n",
       "      <td>2466</td>\n",
       "      <td>SFO</td>\n",
       "      <td>DFW</td>\n",
       "      <td>3</td>\n",
       "      <td>20</td>\n",
       "      <td>195</td>\n",
       "      <td>1</td>\n",
       "    </tr>\n",
       "    <tr>\n",
       "      <th>4</th>\n",
       "      <td>5</td>\n",
       "      <td>AS</td>\n",
       "      <td>108</td>\n",
       "      <td>ANC</td>\n",
       "      <td>SEA</td>\n",
       "      <td>3</td>\n",
       "      <td>30</td>\n",
       "      <td>202</td>\n",
       "      <td>0</td>\n",
       "    </tr>\n",
       "  </tbody>\n",
       "</table>\n",
       "</div>"
      ],
      "text/plain": [
       "   id Airline  Flight AirportFrom AirportTo  DayOfWeek  Time  Length  Delay\n",
       "0   1      CO     269         SFO       IAH          3    15     205      1\n",
       "1   2      US    1558         PHX       CLT          3    15     222      1\n",
       "2   3      AA    2400         LAX       DFW          3    20     165      1\n",
       "3   4      AA    2466         SFO       DFW          3    20     195      1\n",
       "4   5      AS     108         ANC       SEA          3    30     202      0"
      ]
     },
     "execution_count": 2,
     "metadata": {},
     "output_type": "execute_result"
    }
   ],
   "source": [
    "df = pd.read_csv(\"Airlines.csv\")\n",
    "print('='*20)\n",
    "df.info()\n",
    "print('='*20)\n",
    "df.isna().sum()\n",
    "print('='*20)\n",
    "df.head()"
   ]
  },
  {
   "cell_type": "markdown",
   "id": "2f6bbde9",
   "metadata": {},
   "source": [
    "## Clean Dataset\n",
    "<p>Proses pembersihan data mencakup penghapusan duplikat, pengisian nilai kosong dengan rata-rata (khusus kolom numerik), serta menghapus outlier menggunakan Z-Score. Menghapus duplikat mencegah bias model akibat data berulang, mengisi nilai kosong memastikan algoritma berjalan tanpa error, dan menghapus outlier menjaga pola data agar tidak terdistorsi, sehingga data bersih dan berkualitas untuk pelatihan model.</p>"
   ]
  },
  {
   "cell_type": "code",
   "execution_count": 3,
   "id": "a9fff079",
   "metadata": {},
   "outputs": [
    {
     "name": "stdout",
     "output_type": "stream",
     "text": [
      "\n",
      "Dataset setelah pembersihan:\n",
      "<class 'pandas.core.frame.DataFrame'>\n",
      "Index: 529473 entries, 0 to 539382\n",
      "Data columns (total 9 columns):\n",
      " #   Column       Non-Null Count   Dtype \n",
      "---  ------       --------------   ----- \n",
      " 0   id           529473 non-null  int64 \n",
      " 1   Airline      529473 non-null  object\n",
      " 2   Flight       529473 non-null  int64 \n",
      " 3   AirportFrom  529473 non-null  object\n",
      " 4   AirportTo    529473 non-null  object\n",
      " 5   DayOfWeek    529473 non-null  int64 \n",
      " 6   Time         529473 non-null  int64 \n",
      " 7   Length       529473 non-null  int64 \n",
      " 8   Delay        529473 non-null  int64 \n",
      "dtypes: int64(6), object(3)\n",
      "memory usage: 40.4+ MB\n"
     ]
    }
   ],
   "source": [
    "df.drop_duplicates(inplace=True)\n",
    "df.fillna(df.mean(numeric_only=True), inplace=True)\n",
    "z_scores = np.abs(stats.zscore(df.select_dtypes(include=np.number)))\n",
    "df = df[(z_scores < 3).all(axis=1)]\n",
    "print(\"\\nDataset setelah pembersihan:\")\n",
    "df.info()"
   ]
  },
  {
   "cell_type": "markdown",
   "id": "691ff1bc",
   "metadata": {},
   "source": [
    "## Encoding Fitur\n",
    "<p>Kolom kategorikal (bertipe object) dikonversi ke format numerik menggunakan LabelEncoder. Ini diperlukan karena algoritma machine learning seperti Random Forest tidak dapat bekerja langsung dengan data bertipe teks. Encoding memungkinkan model mempelajari hubungan dari data kategorikal, seperti nama maskapai atau bandara, untuk prediksi yang lebih akurat.</p>"
   ]
  },
  {
   "cell_type": "code",
   "execution_count": 4,
   "id": "181e1ef3",
   "metadata": {},
   "outputs": [],
   "source": [
    "cat_cols = df.select_dtypes(include=['object']).columns.tolist()\n",
    "if 'Delay' in cat_cols:\n",
    "    cat_cols.remove('Delay')  \n",
    "\n",
    "le = LabelEncoder()\n",
    "for col in cat_cols:\n",
    "    df[col] = le.fit_transform(df[col])\n",
    "\n",
    "# Encode target if categorical\n",
    "if df['Delay'].dtype == 'object':\n",
    "    df['Delay'] = le.fit_transform(df['Delay'])\n"
   ]
  },
  {
   "cell_type": "markdown",
   "id": "a114bea9",
   "metadata": {},
   "source": [
    "## Split Fitur\n",
    "<p>Dataset dibagi menjadi fitur (X) dan target (y), dengan fitur mencakup semua kolom selain Delay (target). Pemisahan ini diperlukan agar model dapat dilatih untuk memprediksi Delay berdasarkan fitur lainnya, memastikan input dan output model terdefinisi dengan jelas untuk proses pembelajaran.</p>"
   ]
  },
  {
   "cell_type": "code",
   "execution_count": 5,
   "id": "24d40fed",
   "metadata": {},
   "outputs": [],
   "source": [
    "X = df.drop(columns='Delay')\n",
    "y = df['Delay']"
   ]
  },
  {
   "cell_type": "markdown",
   "id": "24129514",
   "metadata": {},
   "source": [
    "## Normalisasi\n",
    "<p>Fitur dinormalisasi menggunakan MinMaxScaler agar semua fitur berada dalam rentang 0 hingga 1. Normalisasi mencegah dominasi fitur berskala besar (misalnya, jarak penerbangan) atas fitur berskala kecil (misalnya, hari), mempercepat pembelajaran, dan meningkatkan akurasi model dengan memastikan kontribusi fitur seimbang.</p>"
   ]
  },
  {
   "cell_type": "code",
   "execution_count": 6,
   "id": "7c46876e",
   "metadata": {},
   "outputs": [],
   "source": [
    "scaler = MinMaxScaler()\n",
    "X_scaled = scaler.fit_transform(X)"
   ]
  },
  {
   "cell_type": "markdown",
   "id": "b4ef7ab4",
   "metadata": {},
   "source": [
    "## SMOTE\n",
    "<p>SMOTE (Synthetic Minority Over-sampling Technique) digunakan untuk mengatasi ketidakseimbangan kelas pada target Delay. Teknik ini menciptakan data sintetis untuk kelas minoritas agar distribusi kelas menjadi seimbang.<p>"
   ]
  },
  {
   "cell_type": "code",
   "execution_count": null,
   "id": "96ef718c",
   "metadata": {},
   "outputs": [
    {
     "name": "stdout",
     "output_type": "stream",
     "text": [
      "\n",
      "Jumlah sampel setelah SMOTE: 587442\n"
     ]
    }
   ],
   "source": [
    "sm = SMOTE(random_state=42, k_neighbors=5)  \n",
    "X_resampled, y_resampled = sm.fit_resample(X_scaled, y)\n",
    "print(f\"\\nJumlah sampel setelah SMOTE: {X_resampled.shape[0]}\")"
   ]
  },
  {
   "cell_type": "markdown",
   "id": "c4b99907",
   "metadata": {},
   "source": [
    "## Reduksi dimensi dengan PCA\n",
    "<p>PCA (Principal Component Analysis) digunakan untuk mereduksi jumlah fitur dengan mempertahankan 95% variansi data. PCA meningkatkan efisiensi dengan mengurangi waktu komputasi dan mencegah overfitting dengan menghilangkan fitur redundan, memungkinkan model fokus pada informasi paling penting untuk prediksi yang lebih akurat.</p>"
   ]
  },
  {
   "cell_type": "code",
   "execution_count": 8,
   "id": "75ed563b",
   "metadata": {},
   "outputs": [
    {
     "name": "stdout",
     "output_type": "stream",
     "text": [
      "\n",
      "Jumlah fitur setelah PCA: 7\n"
     ]
    }
   ],
   "source": [
    "pca = PCA(n_components=0.95)\n",
    "X_pca = pca.fit_transform(X_resampled)\n",
    "print(f\"\\nJumlah fitur setelah PCA: {X_pca.shape[1]}\")"
   ]
  },
  {
   "cell_type": "markdown",
   "id": "0b0099d6",
   "metadata": {},
   "source": [
    "Preprocessing dilakukan dalam analisis dataset `Airlines.csv` untuk mempersiapkan data mentah agar optimal digunakan dalam pelatihan model *machine learning* seperti Random Forest, dengan langkah-langkah seperti pembersihan data (menghapus duplikat, mengisi nilai kosong, dan menghilangkan *outlier* menggunakan Z-Score) untuk menjaga kualitas data, *encoding* fitur kategorikal dengan `LabelEncoder` agar data teks dapat diproses model, normalisasi menggunakan `MinMaxScaler` untuk menyamakan skala fitur, penanganan ketidakseimbangan kelas dengan SMOTE agar model tidak bias terhadap kelas mayoritas, reduksi dimensi dengan PCA untuk meningkatkan efisiensi tanpa kehilangan informasi penting, serta pemisahan data menjadi pelatihan dan pengujian untuk evaluasi objektif, sehingga memastikan model dapat belajar pola dengan akurat, stabil, dan efisien tanpa gangguan dari data yang bermasalah."
   ]
  },
  {
   "cell_type": "markdown",
   "id": "cdeedb9e",
   "metadata": {},
   "source": [
    "## Split Dataset\n",
    "<p>Data yang telah diproses dibagi menjadi data pelatihan dan pengujian menggunakan train_test_split. Sebesar 30% data disimpan sebagai data uji untuk mengevaluasi performa model setelah dilatih.<p>"
   ]
  },
  {
   "cell_type": "code",
   "execution_count": 9,
   "id": "df9e5fce",
   "metadata": {},
   "outputs": [],
   "source": [
    "X_train, X_test, y_train, y_test = train_test_split(X_resampled, y_resampled, test_size=0.3, random_state=42)"
   ]
  },
  {
   "cell_type": "markdown",
   "id": "c55f1ba3",
   "metadata": {},
   "source": [
    "## Model RandomForest\n",
    "<p>Model Random Forest dikonfigurasi dan dilatih pada data pelatihan. Model ini terdiri dari 200 pohon keputusan, dengan kedalaman maksimal 20. Parameter class_weight='balanced' digunakan untuk menangani data tidak seimbang, dan n_jobs=-1 agar pelatihan dilakukan secara paralel.<p>"
   ]
  },
  {
   "cell_type": "code",
   "execution_count": 10,
   "id": "f24ae080",
   "metadata": {},
   "outputs": [
    {
     "name": "stdout",
     "output_type": "stream",
     "text": [
      "\n",
      "Parameter terbaik: {'max_depth': None, 'n_estimators': 200}\n"
     ]
    }
   ],
   "source": [
    "model = RandomForestClassifier(\n",
    "    n_estimators=200,\n",
    "    max_depth=20,\n",
    "    class_weight='balanced',\n",
    "    random_state=42,\n",
    "    n_jobs=-1\n",
    ")\n",
    "param_grid = {\n",
    "    'n_estimators': [100, 200],\n",
    "    'max_depth': [10, 20, None],\n",
    "}\n",
    "grid_search = GridSearchCV(model, param_grid, cv=3, scoring='f1_macro', n_jobs=-1)\n",
    "grid_search.fit(X_train, y_train)\n",
    "model = grid_search.best_estimator_\n",
    "print(\"\\nParameter terbaik:\", grid_search.best_params_)\n"
   ]
  },
  {
   "cell_type": "markdown",
   "id": "3f20d7dd",
   "metadata": {},
   "source": [
    "## Cross-Validation"
   ]
  },
  {
   "cell_type": "code",
   "execution_count": 11,
   "id": "dfa4f18f",
   "metadata": {},
   "outputs": [
    {
     "name": "stdout",
     "output_type": "stream",
     "text": [
      "\n",
      "Cross-validation F1-score: 0.71 (±0.00)\n"
     ]
    }
   ],
   "source": [
    "cv_scores = cross_val_score(model, X_train, y_train, cv=5, scoring='f1_macro')\n",
    "print(f\"\\nCross-validation F1-score: {cv_scores.mean():.2f} (±{cv_scores.std():.2f})\")"
   ]
  },
  {
   "cell_type": "markdown",
   "id": "20de9354",
   "metadata": {},
   "source": [
    "## Feature Importance"
   ]
  },
  {
   "cell_type": "code",
   "execution_count": 12,
   "id": "2b898187",
   "metadata": {},
   "outputs": [
    {
     "name": "stdout",
     "output_type": "stream",
     "text": [
      "\n",
      "Fitur penting:\n",
      "       Feature  Importance\n",
      "0           id    0.254163\n",
      "6         Time    0.143719\n",
      "2       Flight    0.133853\n",
      "7       Length    0.116063\n",
      "3  AirportFrom    0.092339\n",
      "4    AirportTo    0.088185\n",
      "5    DayOfWeek    0.086757\n",
      "1      Airline    0.084919\n"
     ]
    }
   ],
   "source": [
    "feature_importance = pd.DataFrame({\n",
    "    'Feature': X.columns,\n",
    "    'Importance': model.feature_importances_\n",
    "}).sort_values(by='Importance', ascending=False)\n",
    "print(\"\\nFitur penting:\")\n",
    "print(feature_importance)"
   ]
  },
  {
   "cell_type": "markdown",
   "id": "fa0bbc9a",
   "metadata": {},
   "source": [
    "## Evaluate\n",
    "<p>Model yang telah dilatih diuji pada data uji, dan performanya diukur dengan classification report yang mencakup precision, recall, f1-score, dan akurasi. Ini membantu mengetahui seberapa baik model mengenali masing-masing kelas.<p>"
   ]
  },
  {
   "cell_type": "code",
   "execution_count": 13,
   "id": "f376a3f8",
   "metadata": {},
   "outputs": [
    {
     "name": "stdout",
     "output_type": "stream",
     "text": [
      "\n",
      "=== Classification Report ===\n",
      "              precision    recall  f1-score   support\n",
      "\n",
      "           0       0.71      0.73      0.72     88203\n",
      "           1       0.72      0.70      0.71     88030\n",
      "\n",
      "    accuracy                           0.72    176233\n",
      "   macro avg       0.72      0.72      0.72    176233\n",
      "weighted avg       0.72      0.72      0.72    176233\n",
      "\n"
     ]
    }
   ],
   "source": [
    "y_pred = model.predict(X_test)\n",
    "print(\"\\n=== Classification Report ===\")\n",
    "print(classification_report(y_test, y_pred, zero_division=0))"
   ]
  },
  {
   "cell_type": "markdown",
   "id": "4c249ff9",
   "metadata": {},
   "source": [
    "## Confusion Matrix\n",
    "<p>Confusion matrix divisualisasikan untuk memperlihatkan secara rinci jumlah prediksi benar dan salah untuk tiap kelas (No Delay vs Delay). Ini sangat berguna untuk menganalisis kesalahan model secara visual.<p>"
   ]
  },
  {
   "cell_type": "code",
   "execution_count": 14,
   "id": "c07f0cbe",
   "metadata": {},
   "outputs": [
    {
     "data": {
      "image/png": "[encoded data removed]",
      "text/plain": [
       "<Figure size 640x480 with 2 Axes>"
      ]
     },
     "metadata": {},
     "output_type": "display_data"
    }
   ],
   "source": [
    "cm = confusion_matrix(y_test, y_pred)\n",
    "disp = ConfusionMatrixDisplay(confusion_matrix=cm, display_labels=['No Delay', 'Delay'])\n",
    "disp.plot()\n",
    "plt.title(\"Confusion Matrix Random Forest Model\")\n",
    "plt.show()"
   ]
  },
  {
   "cell_type": "markdown",
   "id": "8b58bc0f",
   "metadata": {},
   "source": [
    "## Predik Acak\n",
    "<p>Lima sampel acak dari data uji ditampilkan beserta hasil prediksi dan label sebenarnya. Hal ini memberikan gambaran konkret tentang performa model pada contoh nyata dan memperlihatkan bagaimana model membuat keputusan.<p>"
   ]
  },
  {
   "cell_type": "code",
   "execution_count": 15,
   "id": "f2af5960",
   "metadata": {},
   "outputs": [
    {
     "name": "stdout",
     "output_type": "stream",
     "text": [
      "\n",
      "Contoh hasil klasifikasi (acak dari data test):\n",
      "Sample 1: Actual = Delay, Predicted = Delay\n",
      "Sample 2: Actual = No Delay, Predicted = No Delay\n",
      "Sample 3: Actual = No Delay, Predicted = No Delay\n",
      "Sample 4: Actual = No Delay, Predicted = No Delay\n",
      "Sample 5: Actual = No Delay, Predicted = No Delay\n"
     ]
    }
   ],
   "source": [
    "label_map = {0: \"No Delay\", 1: \"Delay\"}\n",
    "\n",
    "random_indices = random.sample(range(len(X_test)), 5)\n",
    "print(\"\\nContoh hasil klasifikasi (acak dari data test):\")\n",
    "for i, idx in enumerate(random_indices):\n",
    "    actual = label_map[y_test.iloc[idx]]\n",
    "    predicted = label_map[y_pred[idx]]\n",
    "    print(f\"Sample {i+1}: Actual = {actual}, Predicted = {predicted}\")"
   ]
  }
 ],
 "metadata": {
  "kernelspec": {
   "display_name": "Python 3",
   "language": "python",
   "name": "python3"
  },
  "language_info": {
   "codemirror_mode": {
    "name": "ipython",
    "version": 3
   },
   "file_extension": ".py",
   "mimetype": "text/x-python",
   "name": "python",
   "nbconvert_exporter": "python",
   "pygments_lexer": "ipython3",
   "version": "3.10.11"
  }
 },
 "nbformat": 4,
 "nbformat_minor": 5
}
